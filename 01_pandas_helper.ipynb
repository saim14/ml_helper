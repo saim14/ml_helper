{
 "cells": [
  {
   "cell_type": "markdown",
   "metadata": {},
   "source": [
    "# Pandas helper"
   ]
  },
  {
   "cell_type": "markdown",
   "metadata": {},
   "source": [
    "## Data exploration basic"
   ]
  },
  {
   "cell_type": "code",
   "execution_count": null,
   "metadata": {},
   "outputs": [],
   "source": [
    "#rows and columns returns (rows, columns)\n",
    "data.shape\n",
    "\n",
    "#returns the first x number of rows when head(num). Without a number it returns 5\n",
    "data.head()\n",
    "\n",
    "#returns the last x number of rows when tail(num). Without a number it returns 5\n",
    "data.tail()\n",
    "\n",
    "#returns an object with all of the column headers \n",
    "data.columns\n",
    "\n",
    "#basic information on all columns \n",
    "data.info()\n",
    "\n",
    "#gives basic statistics on numeric columns\n",
    "data.describe()\n",
    "\n",
    "#shows what type the data was read in as (float, int, string, bool, etc.)\n",
    "data.dtypes\n",
    "\n",
    "#shows which values are null\n",
    "data.isnull()\n",
    "\n",
    "#shows which columns have null values\n",
    "data.isnull().any()\n",
    "\n",
    "#shows for each column the percentage of null values \n",
    "data.isnull().sum() / data.shape[0]\n",
    "\n",
    "#crosstab look up\n",
    "pd.crosstab(data['col1'], data['col2'])\n",
    "\n",
    "#plot histograms for all numeric columns \n",
    "data.hist() \n",
    "\n",
    "# plot any column\n",
    "import matplotlib.pyplot as plt # sometime it's required\n",
    "%matplotlib inline\n",
    "data['col']. plot()\n",
    "\n",
    "# only select .2 or 20% of data [can be selected any % of data]\n",
    "data.sample(frac=0.2) #it select randomly "
   ]
  },
  {
   "cell_type": "markdown",
   "metadata": {},
   "source": [
    "## Data manipuation basics"
   ]
  },
  {
   "cell_type": "code",
   "execution_count": null,
   "metadata": {},
   "outputs": [],
   "source": [
    "# rename columns \n",
    "data.rename(index=str columns={'col_oldname':'col_newname'})\n",
    "\n",
    "# view all rows for one column\n",
    "data.col_name \n",
    "data['col_name']\n",
    "\n",
    "# multiple columns by name\n",
    "data[['col1','col2']]\n",
    "data.loc[:['col1','col2']]\n",
    "\n",
    "#columns by index(all rows and slicing index)\n",
    "data.iloc[:,[0:2]]\n",
    "\n",
    "# drop columns \n",
    "data.drop('colname', axis =1) #add inplace = True to do save over current dataframe\n",
    "#drop multiple \n",
    "data.drop(['col1','col2'], axis =1)\n",
    "\n",
    "# use of lambda function \n",
    "data.apply(lambda x: x.colname**2, axis =1)\n",
    "data.apply(lambda x: 0 if x in somelist else x)\n",
    "data.apply(lambda x: x.split()['taking part e.g ([0] or [1] or [start:end])'])\n",
    "\n",
    "# pivot table \n",
    "pd.pivot_table(data, index = 'col_name', values = 'col2', columns = 'col3')\n",
    "\n",
    "# merge  == JOIN in SQL\n",
    "pd.merge(data1, data2, how = 'inner' , on = 'col1')\n",
    "\n",
    "# write to csv \n",
    "data.to_csv('data_out.csv')"
   ]
  },
  {
   "cell_type": "markdown",
   "metadata": {},
   "source": [
    "## Moderate helper"
   ]
  },
  {
   "cell_type": "code",
   "execution_count": null,
   "metadata": {},
   "outputs": [],
   "source": [
    "# count others values, group by any column and look up any column\n",
    "df.groupby(\"anycolumn\").count()\n",
    "df.groupby(\"anycolumn\").count()['lookedupcolumn']\n",
    "df.groupby('anycolumn', as_index = False).mean() # find out mean of all other numeric column based one any perticular column\n",
    "\n",
    "# string to numeric\n",
    "df['column'] = pd.to_numeric(df['column'], errors='coerce')\n",
    "\n",
    "# string to date-time and look up by month and year\n",
    "df['date'] = pd.to_datetime(df['date'])\n",
    "df[\"date\"].dt.year\n",
    "df[\"date\"].dt.month\n",
    "\n",
    "# reading multiple dataframe and merged them based on common column \n",
    "from functools import reduce\n",
    "df1 = pd.read_csv('data1.csv')\n",
    "df2 = pd.read_csv('data2.csv')\n",
    "df3 = pd.read_csv('data3.csv')\n",
    "df4 = pd.read_csv('data4.csv')\n",
    "all_df_list = [df1,df2,df3,df4]\n",
    "df_merged = reduce(lambda  left,right: pd.merge(left,right,on=['common_column'],\n",
    "                                            how='outer'), all_df_list)"
   ]
  },
  {
   "cell_type": "code",
   "execution_count": null,
   "metadata": {},
   "outputs": [],
   "source": []
  }
 ],
 "metadata": {
  "kernelspec": {
   "display_name": "Python 3",
   "language": "python",
   "name": "python3"
  },
  "language_info": {
   "codemirror_mode": {
    "name": "ipython",
    "version": 3
   },
   "file_extension": ".py",
   "mimetype": "text/x-python",
   "name": "python",
   "nbconvert_exporter": "python",
   "pygments_lexer": "ipython3",
   "version": "3.7.6"
  }
 },
 "nbformat": 4,
 "nbformat_minor": 4
}
